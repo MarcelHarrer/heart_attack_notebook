{
 "cells": [
  {
   "cell_type": "markdown",
   "id": "b6c9c956",
   "metadata": {},
   "source": [
    "# Heart Attack Dataset Analysis from Kaggle\n"
   ]
  },
  {
   "cell_type": "code",
   "execution_count": 1,
   "id": "169d4f15",
   "metadata": {},
   "outputs": [
    {
     "name": "stdout",
     "output_type": "stream",
     "text": [
      "Requirement already satisfied: kagglehub in c:\\users\\harre\\miniconda3\\envs\\heartattackenv\\lib\\site-packages (0.3.12)\n",
      "Requirement already satisfied: packaging in c:\\users\\harre\\miniconda3\\envs\\heartattackenv\\lib\\site-packages (from kagglehub) (25.0)\n",
      "Requirement already satisfied: pyyaml in c:\\users\\harre\\miniconda3\\envs\\heartattackenv\\lib\\site-packages (from kagglehub) (6.0.2)\n",
      "Requirement already satisfied: requests in c:\\users\\harre\\miniconda3\\envs\\heartattackenv\\lib\\site-packages (from kagglehub) (2.32.3)\n",
      "Requirement already satisfied: tqdm in c:\\users\\harre\\miniconda3\\envs\\heartattackenv\\lib\\site-packages (from kagglehub) (4.67.1)\n",
      "Requirement already satisfied: charset-normalizer<4,>=2 in c:\\users\\harre\\miniconda3\\envs\\heartattackenv\\lib\\site-packages (from requests->kagglehub) (3.4.2)\n",
      "Requirement already satisfied: idna<4,>=2.5 in c:\\users\\harre\\miniconda3\\envs\\heartattackenv\\lib\\site-packages (from requests->kagglehub) (3.10)\n",
      "Requirement already satisfied: urllib3<3,>=1.21.1 in c:\\users\\harre\\miniconda3\\envs\\heartattackenv\\lib\\site-packages (from requests->kagglehub) (2.4.0)\n",
      "Requirement already satisfied: certifi>=2017.4.17 in c:\\users\\harre\\miniconda3\\envs\\heartattackenv\\lib\\site-packages (from requests->kagglehub) (2025.4.26)\n",
      "Requirement already satisfied: colorama in c:\\users\\harre\\miniconda3\\envs\\heartattackenv\\lib\\site-packages (from tqdm->kagglehub) (0.4.6)\n",
      "Requirement already satisfied: pandas in c:\\users\\harre\\miniconda3\\envs\\heartattackenv\\lib\\site-packages (2.2.3)\n",
      "Requirement already satisfied: numpy>=1.22.4 in c:\\users\\harre\\miniconda3\\envs\\heartattackenv\\lib\\site-packages (from pandas) (2.0.2)\n",
      "Requirement already satisfied: python-dateutil>=2.8.2 in c:\\users\\harre\\miniconda3\\envs\\heartattackenv\\lib\\site-packages (from pandas) (2.9.0.post0)\n",
      "Requirement already satisfied: pytz>=2020.1 in c:\\users\\harre\\miniconda3\\envs\\heartattackenv\\lib\\site-packages (from pandas) (2025.2)\n",
      "Requirement already satisfied: tzdata>=2022.7 in c:\\users\\harre\\miniconda3\\envs\\heartattackenv\\lib\\site-packages (from pandas) (2025.2)\n",
      "Requirement already satisfied: six>=1.5 in c:\\users\\harre\\miniconda3\\envs\\heartattackenv\\lib\\site-packages (from python-dateutil>=2.8.2->pandas) (1.17.0)\n",
      "Requirement already satisfied: scikit-learn in c:\\users\\harre\\miniconda3\\envs\\heartattackenv\\lib\\site-packages (1.6.1)\n",
      "Requirement already satisfied: numpy>=1.19.5 in c:\\users\\harre\\miniconda3\\envs\\heartattackenv\\lib\\site-packages (from scikit-learn) (2.0.2)\n",
      "Requirement already satisfied: scipy>=1.6.0 in c:\\users\\harre\\miniconda3\\envs\\heartattackenv\\lib\\site-packages (from scikit-learn) (1.13.1)\n",
      "Requirement already satisfied: joblib>=1.2.0 in c:\\users\\harre\\miniconda3\\envs\\heartattackenv\\lib\\site-packages (from scikit-learn) (1.5.0)\n",
      "Requirement already satisfied: threadpoolctl>=3.1.0 in c:\\users\\harre\\miniconda3\\envs\\heartattackenv\\lib\\site-packages (from scikit-learn) (3.6.0)\n",
      "Requirement already satisfied: matplotlib in c:\\users\\harre\\miniconda3\\envs\\heartattackenv\\lib\\site-packages (3.9.4)\n",
      "Requirement already satisfied: contourpy>=1.0.1 in c:\\users\\harre\\miniconda3\\envs\\heartattackenv\\lib\\site-packages (from matplotlib) (1.3.0)\n",
      "Requirement already satisfied: cycler>=0.10 in c:\\users\\harre\\miniconda3\\envs\\heartattackenv\\lib\\site-packages (from matplotlib) (0.12.1)\n",
      "Requirement already satisfied: fonttools>=4.22.0 in c:\\users\\harre\\miniconda3\\envs\\heartattackenv\\lib\\site-packages (from matplotlib) (4.58.0)\n",
      "Requirement already satisfied: kiwisolver>=1.3.1 in c:\\users\\harre\\miniconda3\\envs\\heartattackenv\\lib\\site-packages (from matplotlib) (1.4.7)\n",
      "Requirement already satisfied: numpy>=1.23 in c:\\users\\harre\\miniconda3\\envs\\heartattackenv\\lib\\site-packages (from matplotlib) (2.0.2)\n",
      "Requirement already satisfied: packaging>=20.0 in c:\\users\\harre\\miniconda3\\envs\\heartattackenv\\lib\\site-packages (from matplotlib) (25.0)\n",
      "Requirement already satisfied: pillow>=8 in c:\\users\\harre\\miniconda3\\envs\\heartattackenv\\lib\\site-packages (from matplotlib) (11.2.1)\n",
      "Requirement already satisfied: pyparsing>=2.3.1 in c:\\users\\harre\\miniconda3\\envs\\heartattackenv\\lib\\site-packages (from matplotlib) (3.2.3)\n",
      "Requirement already satisfied: python-dateutil>=2.7 in c:\\users\\harre\\miniconda3\\envs\\heartattackenv\\lib\\site-packages (from matplotlib) (2.9.0.post0)\n",
      "Requirement already satisfied: importlib-resources>=3.2.0 in c:\\users\\harre\\miniconda3\\envs\\heartattackenv\\lib\\site-packages (from matplotlib) (6.5.2)\n",
      "Requirement already satisfied: zipp>=3.1.0 in c:\\users\\harre\\miniconda3\\envs\\heartattackenv\\lib\\site-packages (from importlib-resources>=3.2.0->matplotlib) (3.21.0)\n",
      "Requirement already satisfied: six>=1.5 in c:\\users\\harre\\miniconda3\\envs\\heartattackenv\\lib\\site-packages (from python-dateutil>=2.7->matplotlib) (1.17.0)\n"
     ]
    }
   ],
   "source": [
    "!pip install kagglehub\n",
    "!pip install pandas\n",
    "!pip install scikit-learn\n",
    "!pip install matplotlib"
   ]
  },
  {
   "cell_type": "code",
   "execution_count": 4,
   "id": "f4bba164",
   "metadata": {},
   "outputs": [
    {
     "name": "stdout",
     "output_type": "stream",
     "text": [
      "Path to dataset files: C:\\Users\\harre\\.cache\\kagglehub\\datasets\\fatemehmohammadinia\\heart-attack-dataset-tarik-a-rashid\\versions\\1\n"
     ]
    }
   ],
   "source": [
    "import kagglehub\n",
    "\n",
    "# Download latest version\n",
    "path = kagglehub.dataset_download(\"fatemehmohammadinia/heart-attack-dataset-tarik-a-rashid\")\n",
    "\n",
    "print(\"Path to dataset files:\", path)"
   ]
  },
  {
   "cell_type": "code",
   "execution_count": 5,
   "id": "bd9f6ae3",
   "metadata": {},
   "outputs": [
    {
     "name": "stdout",
     "output_type": "stream",
     "text": [
      "Loaded CSV file: C:\\Users\\harre\\.cache\\kagglehub\\datasets\\fatemehmohammadinia\\heart-attack-dataset-tarik-a-rashid\\versions\\1\\Medicaldataset.csv\n"
     ]
    },
    {
     "data": {
      "text/html": [
       "<div>\n",
       "<style scoped>\n",
       "    .dataframe tbody tr th:only-of-type {\n",
       "        vertical-align: middle;\n",
       "    }\n",
       "\n",
       "    .dataframe tbody tr th {\n",
       "        vertical-align: top;\n",
       "    }\n",
       "\n",
       "    .dataframe thead th {\n",
       "        text-align: right;\n",
       "    }\n",
       "</style>\n",
       "<table border=\"1\" class=\"dataframe\">\n",
       "  <thead>\n",
       "    <tr style=\"text-align: right;\">\n",
       "      <th></th>\n",
       "      <th>Age</th>\n",
       "      <th>Gender</th>\n",
       "      <th>Heart rate</th>\n",
       "      <th>Systolic blood pressure</th>\n",
       "      <th>Diastolic blood pressure</th>\n",
       "      <th>Blood sugar</th>\n",
       "      <th>CK-MB</th>\n",
       "      <th>Troponin</th>\n",
       "      <th>Result</th>\n",
       "    </tr>\n",
       "  </thead>\n",
       "  <tbody>\n",
       "    <tr>\n",
       "      <th>0</th>\n",
       "      <td>64</td>\n",
       "      <td>1</td>\n",
       "      <td>66</td>\n",
       "      <td>160</td>\n",
       "      <td>83</td>\n",
       "      <td>160.0</td>\n",
       "      <td>1.80</td>\n",
       "      <td>0.012</td>\n",
       "      <td>negative</td>\n",
       "    </tr>\n",
       "    <tr>\n",
       "      <th>1</th>\n",
       "      <td>21</td>\n",
       "      <td>1</td>\n",
       "      <td>94</td>\n",
       "      <td>98</td>\n",
       "      <td>46</td>\n",
       "      <td>296.0</td>\n",
       "      <td>6.75</td>\n",
       "      <td>1.060</td>\n",
       "      <td>positive</td>\n",
       "    </tr>\n",
       "    <tr>\n",
       "      <th>2</th>\n",
       "      <td>55</td>\n",
       "      <td>1</td>\n",
       "      <td>64</td>\n",
       "      <td>160</td>\n",
       "      <td>77</td>\n",
       "      <td>270.0</td>\n",
       "      <td>1.99</td>\n",
       "      <td>0.003</td>\n",
       "      <td>negative</td>\n",
       "    </tr>\n",
       "    <tr>\n",
       "      <th>3</th>\n",
       "      <td>64</td>\n",
       "      <td>1</td>\n",
       "      <td>70</td>\n",
       "      <td>120</td>\n",
       "      <td>55</td>\n",
       "      <td>270.0</td>\n",
       "      <td>13.87</td>\n",
       "      <td>0.122</td>\n",
       "      <td>positive</td>\n",
       "    </tr>\n",
       "    <tr>\n",
       "      <th>4</th>\n",
       "      <td>55</td>\n",
       "      <td>1</td>\n",
       "      <td>64</td>\n",
       "      <td>112</td>\n",
       "      <td>65</td>\n",
       "      <td>300.0</td>\n",
       "      <td>1.08</td>\n",
       "      <td>0.003</td>\n",
       "      <td>negative</td>\n",
       "    </tr>\n",
       "  </tbody>\n",
       "</table>\n",
       "</div>"
      ],
      "text/plain": [
       "   Age  Gender  Heart rate  Systolic blood pressure  Diastolic blood pressure  \\\n",
       "0   64       1          66                      160                        83   \n",
       "1   21       1          94                       98                        46   \n",
       "2   55       1          64                      160                        77   \n",
       "3   64       1          70                      120                        55   \n",
       "4   55       1          64                      112                        65   \n",
       "\n",
       "   Blood sugar  CK-MB  Troponin    Result  \n",
       "0        160.0   1.80     0.012  negative  \n",
       "1        296.0   6.75     1.060  positive  \n",
       "2        270.0   1.99     0.003  negative  \n",
       "3        270.0  13.87     0.122  positive  \n",
       "4        300.0   1.08     0.003  negative  "
      ]
     },
     "metadata": {},
     "output_type": "display_data"
    }
   ],
   "source": [
    "# Load the CSV file from the downloaded dataset\n",
    "import os\n",
    "import pandas as pd\n",
    "\n",
    "# Find the CSV file in the downloaded path\n",
    "csv_files = [f for f in os.listdir(path) if f.endswith('.csv')]\n",
    "if csv_files:\n",
    "    csv_path = os.path.join(path, csv_files[0])\n",
    "    df = pd.read_csv(csv_path)\n",
    "    print(\"Loaded CSV file:\", csv_path)\n",
    "    display(df.head())\n",
    "else:\n",
    "    print(\"No CSV file found in the dataset directory.\")"
   ]
  },
  {
   "cell_type": "code",
   "execution_count": 1,
   "id": "bc2b043d",
   "metadata": {},
   "outputs": [
    {
     "data": {
      "application/vnd.jupyter.widget-view+json": {
       "model_id": "a21ed667c4b042da80eff058bf1d84bf",
       "version_major": 2,
       "version_minor": 0
      },
      "text/plain": [
       "SelectMultiple(description='Features', index=(0, 1, 2), options=('Troponin', 'CK-MB', 'Age', 'Blood sugar', 'S…"
      ]
     },
     "metadata": {},
     "output_type": "display_data"
    }
   ],
   "source": [
    "import ipywidgets as widgets\n",
    "from IPython.display import display\n",
    "\n",
    "multi_select = widgets.SelectMultiple(\n",
    "    options=[\"Troponin\", \"CK-MB\", \"Age\", \"Blood sugar\", \"Systolic blood pressure\",\n",
    "             \"Diastolic blood pressure\", \"Heart rate\", \"Gender\"],\n",
    "    value=[\"Troponin\", \"CK-MB\", \"Age\"],\n",
    "    description=\"Features\",\n",
    "    disabled=False\n",
    ")\n",
    "\n",
    "# Display the widget\n",
    "display(multi_select)\n"
   ]
  },
  {
   "cell_type": "code",
   "execution_count": 7,
   "id": "dfdc9988",
   "metadata": {},
   "outputs": [
    {
     "name": "stdout",
     "output_type": "stream",
     "text": [
      "Accuracy: 0.9659090909090909\n",
      "              precision    recall  f1-score   support\n",
      "\n",
      "           0       0.97      0.94      0.95       101\n",
      "           1       0.96      0.98      0.97       163\n",
      "\n",
      "    accuracy                           0.97       264\n",
      "   macro avg       0.97      0.96      0.96       264\n",
      "weighted avg       0.97      0.97      0.97       264\n",
      "\n"
     ]
    }
   ],
   "source": [
    "# Simple Random Forest to predict the 'Result' column\n",
    "from sklearn.ensemble import RandomForestClassifier\n",
    "from sklearn.model_selection import train_test_split\n",
    "from sklearn.metrics import classification_report, accuracy_score\n",
    "# Get selected features from the widget\n",
    "selected_features = list(multi_select.value)\n",
    "\n",
    "# Ensure the features exist in the DataFrame\n",
    "selected_features = [feature for feature in selected_features if feature in df.columns]\n",
    "\n",
    "# Prepare features and target\n",
    "X = df[selected_features]\n",
    "y = df['Result'].map({'negative': 0, 'positive': 1})  # Encode target\n",
    "\n",
    "# Split data\n",
    "X_train, X_test, y_train, y_test = train_test_split(X, y, test_size=0.2, random_state=42)\n",
    "\n",
    "# Train Random Forest\n",
    "clf = RandomForestClassifier(n_estimators=100, random_state=42)\n",
    "clf.fit(X_train, y_train)\n",
    "\n",
    "# Predict and evaluate\n",
    "y_pred = clf.predict(X_test)\n",
    "print(\"Accuracy:\", accuracy_score(y_test, y_pred))\n",
    "print(classification_report(y_test, y_pred))"
   ]
  },
  {
   "cell_type": "code",
   "execution_count": 8,
   "id": "e518f29b",
   "metadata": {},
   "outputs": [
    {
     "data": {
      "image/png": "[encoded data removed]",
      "text/plain": [
       "<Figure size 800x500 with 1 Axes>"
      ]
     },
     "metadata": {},
     "output_type": "display_data"
    },
    {
     "name": "stdout",
     "output_type": "stream",
     "text": [
      "Troponin: 0.6348\n",
      "CK-MB: 0.3050\n",
      "Age: 0.0602\n"
     ]
    }
   ],
   "source": [
    "# Overview of feature importance from the trained Random Forest\n",
    "import matplotlib.pyplot as plt\n",
    "import numpy as np\n",
    "\n",
    "feature_importances = clf.feature_importances_\n",
    "feature_names = X.columns\n",
    "\n",
    "# Display as a sorted bar plot\n",
    "indices = np.argsort(feature_importances)[::-1]\n",
    "plt.figure(figsize=(8, 5))\n",
    "plt.title(\"Feature Importance\")\n",
    "plt.bar(range(len(feature_importances)), feature_importances[indices], align=\"center\")\n",
    "plt.xticks(range(len(feature_importances)), feature_names[indices], rotation=45, ha='right')\n",
    "plt.tight_layout()\n",
    "plt.show()\n",
    "\n",
    "# Print feature importances in descending order\n",
    "for i in indices:\n",
    "    print(f\"{feature_names[i]}: {feature_importances[i]:.4f}\")"
   ]
  },
  {
   "cell_type": "markdown",
   "id": "995b4167",
   "metadata": {},
   "source": [
    "We were able to see from the data hat Troponin ist a good indicator for a heartattack this is true as seen by Wikipedia down below.\n",
    "\n",
    "From Wikipedia, the free encyclopedia\n",
    "\"Troponin\"\n",
    "\n",
    "Blood troponin levels may be used as a diagnostic marker for stroke or other myocardial injury that is ongoing, although the sensitivity of this measurement is low.\n"
   ]
  }
 ],
 "metadata": {
  "kernelspec": {
   "display_name": "heartattackenv",
   "language": "python",
   "name": "python3"
  },
  "language_info": {
   "codemirror_mode": {
    "name": "ipython",
    "version": 3
   },
   "file_extension": ".py",
   "mimetype": "text/x-python",
   "name": "python",
   "nbconvert_exporter": "python",
   "pygments_lexer": "ipython3",
   "version": "3.9.21"
  }
 },
 "nbformat": 4,
 "nbformat_minor": 5
}
